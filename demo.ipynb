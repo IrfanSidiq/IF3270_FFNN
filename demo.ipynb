{
 "cells": [
  {
   "cell_type": "code",
   "execution_count": 1,
   "metadata": {},
   "outputs": [],
   "source": [
    "import numpy as np\n",
    "import src.tensor\n",
    "\n",
    "from src.tensor import Tensor\n",
    "from src.activation_function import Linear, ReLU\n",
    "from src.loss_function import MeanSquaredError"
   ]
  },
  {
   "cell_type": "markdown",
   "metadata": {},
   "source": [
    "### **Tensor Test Case**"
   ]
  },
  {
   "cell_type": "code",
   "execution_count": 2,
   "metadata": {},
   "outputs": [
    {
     "name": "stdout",
     "output_type": "stream",
     "text": [
      "Value: [1 2], Gradient: [0. 0.]\n",
      "Value: [3. 4.], Gradient: [0. 0.]\n",
      "Value: [4 6], Gradient: [0. 0.]\n",
      "Value: [-2 -2], Gradient: [0. 0.]\n",
      "Value: [3 8], Gradient: [0. 0.]\n",
      "Value: [0.33333333 0.5       ], Gradient: [0. 0.]\n"
     ]
    }
   ],
   "source": [
    "# Basic operations\n",
    "a = Tensor(np.array([1,2]))\n",
    "b = Tensor(np.array([3,4]))\n",
    "c = a + b\n",
    "d = a - b\n",
    "e = a * b\n",
    "f = a / b\n",
    "\n",
    "print(a)\n",
    "print(b)\n",
    "print(c)\n",
    "print(d)\n",
    "print(e)\n",
    "print(f)"
   ]
  },
  {
   "cell_type": "code",
   "execution_count": 3,
   "metadata": {},
   "outputs": [
    {
     "name": "stdout",
     "output_type": "stream",
     "text": [
      "Value: [1 2], Gradient: [0. 0.]\n",
      "Value: [1 2], Gradient: [0. 0.]\n",
      "Value: [1 2], Gradient: [0. 0.]\n",
      "Value: 4.0, Gradient: 0.0\n",
      "Value: 4.0, Gradient: 0.0\n"
     ]
    }
   ],
   "source": [
    "# Activation function and loss function\n",
    "a = Tensor(np.array([1,2]))\n",
    "b = a.compute_activation(Linear)\n",
    "c = a.compute_activation(ReLU)\n",
    "d = b.compute_loss(Tensor(np.array([3,4])), MeanSquaredError)\n",
    "e = c.compute_loss(Tensor(np.array([3,4])), MeanSquaredError)\n",
    "\n",
    "print(a)\n",
    "print(b)\n",
    "print(c)\n",
    "print(d)\n",
    "print(e)"
   ]
  },
  {
   "cell_type": "code",
   "execution_count": 6,
   "metadata": {},
   "outputs": [
    {
     "name": "stdout",
     "output_type": "stream",
     "text": [
      "---------- Before backpropagation ----------\n",
      "Value: [1 2], Gradient: [0. 0.]\n",
      "Value: [3 4], Gradient: [0. 0.]\n",
      "Value: [4 6], Gradient: [0. 0.]\n",
      "Value: [-2 -2], Gradient: [0. 0.]\n",
      "Value: [ -8 -12], Gradient: [0. 0.]\n",
      "Value: [ -8 -12], Gradient: [0. 0.]\n",
      "Value: [0 0], Gradient: [0. 0.]\n",
      "Value: 125.0, Gradient: 0.0\n",
      "Value: 1.0, Gradient: 0.0\n",
      "\n",
      "---------- After backpropagation ----------\n",
      "Value: [1 2], Gradient: [ 54. 156.]\n",
      "Value: [3 4], Gradient: [-54. -78.]\n",
      "Value: [4 6], Gradient: [-36. -52.]\n",
      "Value: [-2 -2], Gradient: [ 72. 156.]\n",
      "Value: [ -8 -12], Gradient: [ 9. 13.]\n",
      "Value: [ -8 -12], Gradient: [ 9. 13.]\n",
      "Value: [0 0], Gradient: [1. 1.]\n",
      "Value: 125.0, Gradient: 1.0\n",
      "Value: 1.0, Gradient: 1.0\n"
     ]
    }
   ],
   "source": [
    "# Automatic differentiation\n",
    "a = Tensor(np.array([1,2]))\n",
    "b = Tensor(np.array([3,4]))\n",
    "c = a + b\n",
    "d = a - b\n",
    "e = c * d\n",
    "f = e.compute_activation(Linear)\n",
    "g = e.compute_activation(ReLU)\n",
    "h = f.compute_loss(Tensor(np.array([1,1])), MeanSquaredError)\n",
    "i = g.compute_loss(Tensor(np.array([1,1])), MeanSquaredError)\n",
    "\n",
    "print(\"---------- Before backpropagation ----------\")\n",
    "print(a)\n",
    "print(b)\n",
    "print(c)\n",
    "print(d)\n",
    "print(e)\n",
    "print(f)\n",
    "print(g)\n",
    "print(h)\n",
    "print(i)\n",
    "\n",
    "h.backward()\n",
    "i.backward()\n",
    "\n",
    "print(\"\\n---------- After backpropagation ----------\")\n",
    "print(a)\n",
    "print(b)\n",
    "print(c)\n",
    "print(d)\n",
    "print(e)\n",
    "print(f)\n",
    "print(g)\n",
    "print(h)\n",
    "print(i)"
   ]
  }
 ],
 "metadata": {
  "kernelspec": {
   "display_name": ".venv",
   "language": "python",
   "name": "python3"
  },
  "language_info": {
   "codemirror_mode": {
    "name": "ipython",
    "version": 3
   },
   "file_extension": ".py",
   "mimetype": "text/x-python",
   "name": "python",
   "nbconvert_exporter": "python",
   "pygments_lexer": "ipython3",
   "version": "3.13.1"
  }
 },
 "nbformat": 4,
 "nbformat_minor": 2
}
